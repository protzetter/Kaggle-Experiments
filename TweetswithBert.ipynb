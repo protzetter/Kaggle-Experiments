{
  "nbformat": 4,
  "nbformat_minor": 0,
  "metadata": {
    "colab": {
      "name": "TweetswithBert.ipynb",
      "provenance": [],
      "mount_file_id": "1Oyc5Nq0zrs7IQe_hB9turDsXjtC5T8ik",
      "authorship_tag": "ABX9TyNqanpPfUk0U/CCIsDSHpg6",
      "include_colab_link": true
    },
    "kernelspec": {
      "name": "python3",
      "display_name": "Python 3"
    },
    "accelerator": "GPU"
  },
  "cells": [
    {
      "cell_type": "markdown",
      "metadata": {
        "id": "view-in-github",
        "colab_type": "text"
      },
      "source": [
        "<a href=\"https://colab.research.google.com/github/protzetter/Kaggle-Experiments/blob/master/TweetswithBert.ipynb\" target=\"_parent\"><img src=\"https://colab.research.google.com/assets/colab-badge.svg\" alt=\"Open In Colab\"/></a>"
      ]
    },
    {
      "cell_type": "code",
      "metadata": {
        "id": "55p_f3dEJqQR",
        "colab_type": "code",
        "colab": {
          "base_uri": "https://localhost:8080/",
          "height": 129
        },
        "outputId": "595cd981-0bb3-4bf1-979a-70ee7479054d"
      },
      "source": [
        "!pip install bert-for-tf2\n",
        "!pip install sentencepiece"
      ],
      "execution_count": 141,
      "outputs": [
        {
          "output_type": "stream",
          "text": [
            "Requirement already satisfied: bert-for-tf2 in /usr/local/lib/python3.6/dist-packages (0.13.4)\n",
            "Requirement already satisfied: params-flow>=0.7.1 in /usr/local/lib/python3.6/dist-packages (from bert-for-tf2) (0.7.4)\n",
            "Requirement already satisfied: py-params>=0.7.3 in /usr/local/lib/python3.6/dist-packages (from bert-for-tf2) (0.8.2)\n",
            "Requirement already satisfied: numpy in /tensorflow-2.1.0/python3.6 (from params-flow>=0.7.1->bert-for-tf2) (1.18.1)\n",
            "Requirement already satisfied: tqdm in /usr/local/lib/python3.6/dist-packages (from params-flow>=0.7.1->bert-for-tf2) (4.28.1)\n",
            "Requirement already satisfied: sentencepiece in /usr/local/lib/python3.6/dist-packages (0.1.85)\n"
          ],
          "name": "stdout"
        }
      ]
    },
    {
      "cell_type": "code",
      "metadata": {
        "id": "s159Q9bPJX_B",
        "colab_type": "code",
        "colab": {
          "base_uri": "https://localhost:8080/",
          "height": 54
        },
        "outputId": "3f616240-375f-4071-8c87-36885b2e811f"
      },
      "source": [
        "%tensorflow_version 2.x\n",
        " \n",
        "import tensorflow as tf\n",
        "import tensorflow_hub as hub\n",
        "import bert\n",
        "from tensorflow.keras.models import  Model\n",
        "from tqdm import tqdm\n",
        "import numpy as np\n",
        "from collections import namedtuple\n",
        "print(\"TensorFlow Version:\",tf.__version__)\n",
        "print(\"Hub version: \",hub.__version__)"
      ],
      "execution_count": 142,
      "outputs": [
        {
          "output_type": "stream",
          "text": [
            "TensorFlow Version: 2.1.0\n",
            "Hub version:  0.7.0\n"
          ],
          "name": "stdout"
        }
      ]
    },
    {
      "cell_type": "code",
      "metadata": {
        "id": "2TWzbQxpJfin",
        "colab_type": "code",
        "colab": {}
      },
      "source": [
        "bert_layer=hub.KerasLayer(\"https://tfhub.dev/tensorflow/bert_en_uncased_L-12_H-768_A-12/1\",trainable=False)"
      ],
      "execution_count": 0,
      "outputs": []
    },
    {
      "cell_type": "code",
      "metadata": {
        "id": "yNZiBgPHJ49k",
        "colab_type": "code",
        "colab": {}
      },
      "source": [
        "MAX_SEQ_LEN=128\n",
        "input_word_ids = tf.keras.layers.Input(shape=(MAX_SEQ_LEN,), dtype=tf.int32,\n",
        "                                       name=\"input_word_ids\")\n",
        "input_mask = tf.keras.layers.Input(shape=(MAX_SEQ_LEN,), dtype=tf.int32,\n",
        "                                   name=\"input_mask\")\n",
        "segment_ids = tf.keras.layers.Input(shape=(MAX_SEQ_LEN,), dtype=tf.int32,\n",
        "                                    name=\"segment_ids\")\n",
        "pooled_output, sequence_output = bert_layer([input_word_ids, input_mask, segment_ids])"
      ],
      "execution_count": 0,
      "outputs": []
    },
    {
      "cell_type": "code",
      "metadata": {
        "id": "2z8i27GxKEj5",
        "colab_type": "code",
        "colab": {}
      },
      "source": [
        "FullTokenizer=bert.bert_tokenization.FullTokenizer\n",
        "\n",
        "vocab_file=bert_layer.resolved_object.vocab_file.asset_path.numpy()\n",
        "\n",
        "do_lower_case=bert_layer.resolved_object.do_lower_case.numpy()\n",
        "\n",
        "tokenizer=FullTokenizer(vocab_file,do_lower_case)"
      ],
      "execution_count": 0,
      "outputs": []
    },
    {
      "cell_type": "code",
      "metadata": {
        "id": "3Snjul4eYCbG",
        "colab_type": "code",
        "colab": {}
      },
      "source": [
        "import string\n",
        "import re\n",
        "import numpy as np\n",
        "import datetime"
      ],
      "execution_count": 0,
      "outputs": []
    },
    {
      "cell_type": "code",
      "metadata": {
        "id": "qQDf89WfKmSS",
        "colab_type": "code",
        "colab": {}
      },
      "source": [
        "def get_masks(tokens, max_seq_length):\n",
        "    return [1]*len(tokens) + [0] * (max_seq_length - len(tokens))\n",
        "\n",
        "def get_segments(tokens, max_seq_length):\n",
        "    \"\"\"Segments: 0 for the first sequence, 1 for the second\"\"\"\n",
        "    segments = []\n",
        "    current_segment_id = 0\n",
        "    for token in tokens:\n",
        "        segments.append(current_segment_id)\n",
        "        if token == \"[SEP]\":\n",
        "            current_segment_id = 1\n",
        "    return segments + [0] * (max_seq_length - len(tokens))"
      ],
      "execution_count": 0,
      "outputs": []
    },
    {
      "cell_type": "code",
      "metadata": {
        "id": "RnujU6ZDKqH2",
        "colab_type": "code",
        "colab": {}
      },
      "source": [
        "def get_ids(tokens, tokenizer, max_seq_length):\n",
        "    \"\"\"Token ids from Tokenizer vocab\"\"\"\n",
        "    token_ids = tokenizer.convert_tokens_to_ids(tokens,)\n",
        "    input_ids = token_ids + [0] * (max_seq_length-len(token_ids))\n",
        "    return input_ids"
      ],
      "execution_count": 0,
      "outputs": []
    },
    {
      "cell_type": "code",
      "metadata": {
        "id": "FqJM01XDLKsa",
        "colab_type": "code",
        "colab": {}
      },
      "source": [
        "import pandas as pd\n",
        "import numpy as np"
      ],
      "execution_count": 0,
      "outputs": []
    },
    {
      "cell_type": "code",
      "metadata": {
        "id": "mGzwPZFlKs9A",
        "colab_type": "code",
        "colab": {}
      },
      "source": [
        "dataset=pd.read_csv('/content/drive/My Drive/Colab Notebooks/train.csv')\n",
        "testset=pd.read_csv('/content/drive/My Drive/Colab Notebooks/test.csv')\n",
        "submission=pd.read_csv('/content/drive/My Drive/Colab Notebooks/submission.csv')\n",
        "lengthdata=dataset.shape[0]\n",
        "yTrain=dataset.target"
      ],
      "execution_count": 0,
      "outputs": []
    },
    {
      "cell_type": "code",
      "metadata": {
        "id": "VN2ChhblU2Te",
        "colab_type": "code",
        "colab": {}
      },
      "source": [
        "def remove_URL(text):\n",
        "    url = re.compile(r'https?://\\S+|www\\.\\S+')\n",
        "    return url.sub(r'',text)\n",
        "\n",
        "dataset['text']=dataset['text'].apply(lambda x : remove_URL(x))\n",
        "testset['text']=testset['text'].apply(lambda x : remove_URL(x))"
      ],
      "execution_count": 0,
      "outputs": []
    },
    {
      "cell_type": "code",
      "metadata": {
        "id": "iCuaow1cVEu-",
        "colab_type": "code",
        "colab": {}
      },
      "source": [
        "def remove_html(text):\n",
        "    html=re.compile(r'<.*?>')\n",
        "    return html.sub(r'',text)\n",
        "\n",
        "dataset['text']=dataset['text'].apply(lambda x : remove_html(x))\n",
        "testset['text']=testset['text'].apply(lambda x : remove_html(x))"
      ],
      "execution_count": 0,
      "outputs": []
    },
    {
      "cell_type": "code",
      "metadata": {
        "id": "qvMFKAYjVQX9",
        "colab_type": "code",
        "colab": {}
      },
      "source": [
        "def remove_emoji(text):\n",
        "    emoji_pattern = re.compile(\"[\"\n",
        "                           u\"\\U0001F600-\\U0001F64F\"  # emoticons\n",
        "                           u\"\\U0001F300-\\U0001F5FF\"  # symbols & pictographs\n",
        "                           u\"\\U0001F680-\\U0001F6FF\"  # transport & map symbols\n",
        "                           u\"\\U0001F1E0-\\U0001F1FF\"  # flags (iOS)\n",
        "                           u\"\\U00002702-\\U000027B0\"\n",
        "                           u\"\\U000024C2-\\U0001F251\"\n",
        "                           \"]+\", flags=re.UNICODE)\n",
        "    return emoji_pattern.sub(r'', text)\n",
        "\n",
        "dataset['text']=dataset['text'].apply(lambda x: remove_emoji(x))\n",
        "testset['text']=testset['text'].apply(lambda x: remove_emoji(x))"
      ],
      "execution_count": 0,
      "outputs": []
    },
    {
      "cell_type": "code",
      "metadata": {
        "colab_type": "code",
        "id": "9E8adVy3bwaJ",
        "colab": {
          "base_uri": "https://localhost:8080/",
          "height": 54
        },
        "outputId": "4b47cf55-4574-4408-8808-b5d4c2efddce"
      },
      "source": [
        "from nltk.corpus import stopwords\n",
        "import nltk\n",
        "nltk.download('stopwords')\n",
        "def remove_punct(text):\n",
        "    text  = \"\".join([char for char in text if char not in string.punctuation])\n",
        "    text = re.sub('[0-9]+', '', text)\n",
        "    return text\n",
        "\n",
        "stopword_set = stopwords.words('english')+['url']\n",
        "def remove_stopwords(text):\n",
        "    ret1=re.split(\"[,_, \\<>!\\?\\.:\\n\\\"=*/]+\",text)\n",
        "    ret2 =\" \".join([word for word in ret1 if word not in stopword_set])\n",
        "    return ret2"
      ],
      "execution_count": 154,
      "outputs": [
        {
          "output_type": "stream",
          "text": [
            "[nltk_data] Downloading package stopwords to /root/nltk_data...\n",
            "[nltk_data]   Package stopwords is already up-to-date!\n"
          ],
          "name": "stdout"
        }
      ]
    },
    {
      "cell_type": "code",
      "metadata": {
        "id": "UTRVWZQMbyME",
        "colab_type": "code",
        "outputId": "3b486f51-d5f3-4dc2-8d8c-ad87004acd1b",
        "colab": {
          "base_uri": "https://localhost:8080/",
          "height": 363
        }
      },
      "source": [
        "dataset['text'] = dataset['text'].apply(lambda x: remove_stopwords(x))\n",
        "testset['text'] = testset['text'].apply(lambda x: remove_stopwords(x))\n",
        "dataset['text'] = dataset['text'].apply(lambda x: remove_punct(x))\n",
        "testset['text'] = testset['text'].apply(lambda x: remove_punct(x))\n",
        "#porter = PorterStemmer()\n",
        "#dataset['text']= porter.stem(dataset['text'])\n",
        "dataset.head(10)\n"
      ],
      "execution_count": 155,
      "outputs": [
        {
          "output_type": "execute_result",
          "data": {
            "text/html": [
              "<div>\n",
              "<style scoped>\n",
              "    .dataframe tbody tr th:only-of-type {\n",
              "        vertical-align: middle;\n",
              "    }\n",
              "\n",
              "    .dataframe tbody tr th {\n",
              "        vertical-align: top;\n",
              "    }\n",
              "\n",
              "    .dataframe thead th {\n",
              "        text-align: right;\n",
              "    }\n",
              "</style>\n",
              "<table border=\"1\" class=\"dataframe\">\n",
              "  <thead>\n",
              "    <tr style=\"text-align: right;\">\n",
              "      <th></th>\n",
              "      <th>id</th>\n",
              "      <th>keyword</th>\n",
              "      <th>location</th>\n",
              "      <th>text</th>\n",
              "      <th>target</th>\n",
              "    </tr>\n",
              "  </thead>\n",
              "  <tbody>\n",
              "    <tr>\n",
              "      <th>0</th>\n",
              "      <td>1</td>\n",
              "      <td>NaN</td>\n",
              "      <td>NaN</td>\n",
              "      <td>Our Deeds Reason earthquake May ALLAH Forgive us</td>\n",
              "      <td>1</td>\n",
              "    </tr>\n",
              "    <tr>\n",
              "      <th>1</th>\n",
              "      <td>4</td>\n",
              "      <td>NaN</td>\n",
              "      <td>NaN</td>\n",
              "      <td>Forest fire near La Ronge Sask Canada</td>\n",
              "      <td>1</td>\n",
              "    </tr>\n",
              "    <tr>\n",
              "      <th>2</th>\n",
              "      <td>5</td>\n",
              "      <td>NaN</td>\n",
              "      <td>NaN</td>\n",
              "      <td>All residents asked shelter place notified off...</td>\n",
              "      <td>1</td>\n",
              "    </tr>\n",
              "    <tr>\n",
              "      <th>3</th>\n",
              "      <td>6</td>\n",
              "      <td>NaN</td>\n",
              "      <td>NaN</td>\n",
              "      <td>people receive wildfires evacuation orders C...</td>\n",
              "      <td>1</td>\n",
              "    </tr>\n",
              "    <tr>\n",
              "      <th>4</th>\n",
              "      <td>7</td>\n",
              "      <td>NaN</td>\n",
              "      <td>NaN</td>\n",
              "      <td>Just got sent photo Ruby Alaska smoke wildfire...</td>\n",
              "      <td>1</td>\n",
              "    </tr>\n",
              "    <tr>\n",
              "      <th>5</th>\n",
              "      <td>8</td>\n",
              "      <td>NaN</td>\n",
              "      <td>NaN</td>\n",
              "      <td>RockyFire Update California Hwy  closed direct...</td>\n",
              "      <td>1</td>\n",
              "    </tr>\n",
              "    <tr>\n",
              "      <th>6</th>\n",
              "      <td>10</td>\n",
              "      <td>NaN</td>\n",
              "      <td>NaN</td>\n",
              "      <td>flood disaster Heavy rain causes flash floodin...</td>\n",
              "      <td>1</td>\n",
              "    </tr>\n",
              "    <tr>\n",
              "      <th>7</th>\n",
              "      <td>13</td>\n",
              "      <td>NaN</td>\n",
              "      <td>NaN</td>\n",
              "      <td>Im top hill I see fire woods</td>\n",
              "      <td>1</td>\n",
              "    </tr>\n",
              "    <tr>\n",
              "      <th>8</th>\n",
              "      <td>14</td>\n",
              "      <td>NaN</td>\n",
              "      <td>NaN</td>\n",
              "      <td>Theres emergency evacuation happening building...</td>\n",
              "      <td>1</td>\n",
              "    </tr>\n",
              "    <tr>\n",
              "      <th>9</th>\n",
              "      <td>15</td>\n",
              "      <td>NaN</td>\n",
              "      <td>NaN</td>\n",
              "      <td>Im afraid tornado coming area</td>\n",
              "      <td>1</td>\n",
              "    </tr>\n",
              "  </tbody>\n",
              "</table>\n",
              "</div>"
            ],
            "text/plain": [
              "   id keyword  ...                                               text target\n",
              "0   1     NaN  ...   Our Deeds Reason earthquake May ALLAH Forgive us      1\n",
              "1   4     NaN  ...              Forest fire near La Ronge Sask Canada      1\n",
              "2   5     NaN  ...  All residents asked shelter place notified off...      1\n",
              "3   6     NaN  ...    people receive wildfires evacuation orders C...      1\n",
              "4   7     NaN  ...  Just got sent photo Ruby Alaska smoke wildfire...      1\n",
              "5   8     NaN  ...  RockyFire Update California Hwy  closed direct...      1\n",
              "6  10     NaN  ...  flood disaster Heavy rain causes flash floodin...      1\n",
              "7  13     NaN  ...                      Im top hill I see fire woods       1\n",
              "8  14     NaN  ...  Theres emergency evacuation happening building...      1\n",
              "9  15     NaN  ...                     Im afraid tornado coming area       1\n",
              "\n",
              "[10 rows x 5 columns]"
            ]
          },
          "metadata": {
            "tags": []
          },
          "execution_count": 155
        }
      ]
    },
    {
      "cell_type": "code",
      "metadata": {
        "id": "BQZ4Ve_9LG_M",
        "colab_type": "code",
        "colab": {}
      },
      "source": [
        "def create_single_input(sentence,MAX_LEN):\n",
        "  \n",
        "  stokens = tokenizer.tokenize(sentence)\n",
        "  \n",
        "  stokens = stokens[:MAX_LEN]\n",
        "  \n",
        "  stokens = [\"[CLS]\"] + stokens + [\"[SEP]\"]\n",
        " \n",
        "  ids = get_ids(stokens, tokenizer, MAX_SEQ_LEN)\n",
        "  masks = get_masks(stokens, MAX_SEQ_LEN)\n",
        "  segments = get_segments(stokens, MAX_SEQ_LEN)\n",
        "\n",
        "  return ids,masks,segments"
      ],
      "execution_count": 0,
      "outputs": []
    },
    {
      "cell_type": "code",
      "metadata": {
        "id": "78KZRt1WLo1w",
        "colab_type": "code",
        "colab": {}
      },
      "source": [
        "def create_input_array(sentences):\n",
        "\n",
        "  input_ids, input_masks, input_segments = [], [], []\n",
        "\n",
        "  for sentence in tqdm(sentences,position=0, leave=True):\n",
        "  \n",
        "    ids,masks,segments=create_single_input(sentence,MAX_SEQ_LEN-2)\n",
        "\n",
        "    input_ids.append(ids)\n",
        "    input_masks.append(masks)\n",
        "    input_segments.append(segments)\n",
        "\n",
        "  return [np.asarray(input_ids, dtype=np.int32), \n",
        "            np.asarray(input_masks, dtype=np.int32), \n",
        "            np.asarray(input_segments, dtype=np.int32)]"
      ],
      "execution_count": 0,
      "outputs": []
    },
    {
      "cell_type": "code",
      "metadata": {
        "id": "KcG4AdxBLsl6",
        "colab_type": "code",
        "colab": {
          "base_uri": "https://localhost:8080/",
          "height": 36
        },
        "outputId": "4ae90dc8-85e9-42b1-8dac-7e560dccf971"
      },
      "source": [
        "train_sentences=dataset[\"text\"].values\n",
        "inputs=create_input_array(train_sentences)"
      ],
      "execution_count": 158,
      "outputs": [
        {
          "output_type": "stream",
          "text": [
            "100%|██████████| 7613/7613 [00:01<00:00, 5336.86it/s]\n"
          ],
          "name": "stderr"
        }
      ]
    },
    {
      "cell_type": "code",
      "metadata": {
        "id": "ZH-EiS2VMyop",
        "colab_type": "code",
        "colab": {}
      },
      "source": [
        "x = tf.keras.layers.GlobalAveragePooling1D()(sequence_output)\n",
        "x = tf.keras.layers.Dropout(0.2)(x)\n",
        "out = tf.keras.layers.Dense(1, activation=\"sigmoid\", name=\"dense_output\")(x)\n",
        "\n",
        "model = tf.keras.models.Model(\n",
        "      inputs=[input_word_ids, input_mask, segment_ids], outputs=out)\n",
        "\n",
        "lr_schedule = tf.keras.callbacks.LearningRateScheduler(\n",
        "    lambda epoch: 1e-8 * 10**(epoch / 20))\n",
        "\n",
        "optimizer = tf.keras.optimizers.Adam(learning_rate=1e-4)\n",
        "model.compile(loss='binary_crossentropy',\n",
        "                  optimizer=optimizer,\n",
        "                  metrics=['MAE'])\n"
      ],
      "execution_count": 0,
      "outputs": []
    },
    {
      "cell_type": "code",
      "metadata": {
        "id": "ZSRb2oscNA18",
        "colab_type": "code",
        "colab": {
          "base_uri": "https://localhost:8080/",
          "height": 466
        },
        "outputId": "c7c4078a-8ea3-4d8e-9712-85bfa1a81e52"
      },
      "source": [
        "model.summary()"
      ],
      "execution_count": 160,
      "outputs": [
        {
          "output_type": "stream",
          "text": [
            "Model: \"model_16\"\n",
            "__________________________________________________________________________________________________\n",
            "Layer (type)                    Output Shape         Param #     Connected to                     \n",
            "==================================================================================================\n",
            "input_word_ids (InputLayer)     [(None, 128)]        0                                            \n",
            "__________________________________________________________________________________________________\n",
            "input_mask (InputLayer)         [(None, 128)]        0                                            \n",
            "__________________________________________________________________________________________________\n",
            "segment_ids (InputLayer)        [(None, 128)]        0                                            \n",
            "__________________________________________________________________________________________________\n",
            "keras_layer_5 (KerasLayer)      [(None, 768), (None, 109482241   input_word_ids[0][0]             \n",
            "                                                                 input_mask[0][0]                 \n",
            "                                                                 segment_ids[0][0]                \n",
            "__________________________________________________________________________________________________\n",
            "global_average_pooling1d_16 (Gl (None, 768)          0           keras_layer_5[0][1]              \n",
            "__________________________________________________________________________________________________\n",
            "dropout_16 (Dropout)            (None, 768)          0           global_average_pooling1d_16[0][0]\n",
            "__________________________________________________________________________________________________\n",
            "dense_output (Dense)            (None, 1)            769         dropout_16[0][0]                 \n",
            "==================================================================================================\n",
            "Total params: 109,483,010\n",
            "Trainable params: 769\n",
            "Non-trainable params: 109,482,241\n",
            "__________________________________________________________________________________________________\n"
          ],
          "name": "stdout"
        }
      ]
    },
    {
      "cell_type": "code",
      "metadata": {
        "id": "rNHr7935Mf_j",
        "colab_type": "code",
        "colab": {
          "base_uri": "https://localhost:8080/",
          "height": 1000
        },
        "outputId": "3d26781e-1e6a-469a-9c3c-2c9e396e1b9f"
      },
      "source": [
        "history=model.fit(inputs,np.array(yTrain),epochs=100,batch_size=32,validation_split=0.2,shuffle=True)"
      ],
      "execution_count": 0,
      "outputs": [
        {
          "output_type": "stream",
          "text": [
            "Train on 6090 samples, validate on 1523 samples\n",
            "Epoch 1/100\n",
            "6090/6090 [==============================] - 72s 12ms/sample - loss: 0.6815 - MAE: 0.4845 - val_loss: 0.6415 - val_MAE: 0.4650\n",
            "Epoch 2/100\n",
            "6090/6090 [==============================] - 66s 11ms/sample - loss: 0.6126 - MAE: 0.4441 - val_loss: 0.5952 - val_MAE: 0.4336\n",
            "Epoch 3/100\n",
            "6090/6090 [==============================] - 68s 11ms/sample - loss: 0.5779 - MAE: 0.4181 - val_loss: 0.5604 - val_MAE: 0.4091\n",
            "Epoch 4/100\n",
            "6090/6090 [==============================] - 68s 11ms/sample - loss: 0.5521 - MAE: 0.3995 - val_loss: 0.5376 - val_MAE: 0.3895\n",
            "Epoch 5/100\n",
            "6090/6090 [==============================] - 69s 11ms/sample - loss: 0.5345 - MAE: 0.3838 - val_loss: 0.5192 - val_MAE: 0.3741\n",
            "Epoch 6/100\n",
            "6090/6090 [==============================] - 69s 11ms/sample - loss: 0.5198 - MAE: 0.3709 - val_loss: 0.5067 - val_MAE: 0.3621\n",
            "Epoch 7/100\n",
            "6090/6090 [==============================] - 70s 11ms/sample - loss: 0.5087 - MAE: 0.3602 - val_loss: 0.4960 - val_MAE: 0.3525\n",
            "Epoch 8/100\n",
            "6090/6090 [==============================] - 70s 11ms/sample - loss: 0.5040 - MAE: 0.3540 - val_loss: 0.4876 - val_MAE: 0.3443\n",
            "Epoch 9/100\n",
            "6090/6090 [==============================] - 70s 11ms/sample - loss: 0.4938 - MAE: 0.3462 - val_loss: 0.4823 - val_MAE: 0.3372\n",
            "Epoch 10/100\n",
            "6090/6090 [==============================] - 70s 11ms/sample - loss: 0.4880 - MAE: 0.3394 - val_loss: 0.4764 - val_MAE: 0.3316\n",
            "Epoch 11/100\n",
            "6090/6090 [==============================] - 70s 11ms/sample - loss: 0.4840 - MAE: 0.3348 - val_loss: 0.4714 - val_MAE: 0.3271\n",
            "Epoch 12/100\n",
            "6090/6090 [==============================] - 70s 11ms/sample - loss: 0.4796 - MAE: 0.3307 - val_loss: 0.4674 - val_MAE: 0.3230\n",
            "Epoch 13/100\n",
            "6090/6090 [==============================] - 70s 11ms/sample - loss: 0.4779 - MAE: 0.3282 - val_loss: 0.4640 - val_MAE: 0.3196\n",
            "Epoch 14/100\n",
            "6090/6090 [==============================] - 70s 11ms/sample - loss: 0.4746 - MAE: 0.3243 - val_loss: 0.4611 - val_MAE: 0.3165\n",
            "Epoch 15/100\n",
            "6090/6090 [==============================] - 70s 11ms/sample - loss: 0.4716 - MAE: 0.3219 - val_loss: 0.4589 - val_MAE: 0.3133\n",
            "Epoch 16/100\n",
            "6090/6090 [==============================] - 70s 11ms/sample - loss: 0.4682 - MAE: 0.3190 - val_loss: 0.4559 - val_MAE: 0.3119\n",
            "Epoch 17/100\n",
            "6090/6090 [==============================] - 70s 11ms/sample - loss: 0.4645 - MAE: 0.3165 - val_loss: 0.4543 - val_MAE: 0.3089\n",
            "Epoch 18/100\n",
            "6090/6090 [==============================] - 70s 11ms/sample - loss: 0.4636 - MAE: 0.3141 - val_loss: 0.4520 - val_MAE: 0.3075\n",
            "Epoch 19/100\n",
            "6090/6090 [==============================] - 70s 11ms/sample - loss: 0.4615 - MAE: 0.3135 - val_loss: 0.4514 - val_MAE: 0.3045\n",
            "Epoch 20/100\n",
            "6090/6090 [==============================] - 70s 11ms/sample - loss: 0.4593 - MAE: 0.3097 - val_loss: 0.4488 - val_MAE: 0.3040\n",
            "Epoch 21/100\n",
            "6090/6090 [==============================] - 70s 11ms/sample - loss: 0.4578 - MAE: 0.3097 - val_loss: 0.4477 - val_MAE: 0.3025\n",
            "Epoch 22/100\n",
            "6090/6090 [==============================] - 70s 11ms/sample - loss: 0.4556 - MAE: 0.3080 - val_loss: 0.4465 - val_MAE: 0.3007\n",
            "Epoch 23/100\n",
            "6090/6090 [==============================] - 70s 11ms/sample - loss: 0.4554 - MAE: 0.3059 - val_loss: 0.4451 - val_MAE: 0.2999\n",
            "Epoch 24/100\n",
            "6090/6090 [==============================] - 70s 11ms/sample - loss: 0.4524 - MAE: 0.3057 - val_loss: 0.4445 - val_MAE: 0.2981\n",
            "Epoch 25/100\n",
            "6090/6090 [==============================] - 70s 11ms/sample - loss: 0.4520 - MAE: 0.3033 - val_loss: 0.4433 - val_MAE: 0.2973\n",
            "Epoch 26/100\n",
            "6090/6090 [==============================] - 70s 11ms/sample - loss: 0.4510 - MAE: 0.3030 - val_loss: 0.4426 - val_MAE: 0.2958\n",
            "Epoch 27/100\n",
            "6090/6090 [==============================] - 70s 11ms/sample - loss: 0.4504 - MAE: 0.3014 - val_loss: 0.4416 - val_MAE: 0.2957\n",
            "Epoch 28/100\n",
            "6090/6090 [==============================] - 70s 11ms/sample - loss: 0.4485 - MAE: 0.3005 - val_loss: 0.4411 - val_MAE: 0.2941\n",
            "Epoch 29/100\n",
            "6090/6090 [==============================] - 70s 11ms/sample - loss: 0.4473 - MAE: 0.2999 - val_loss: 0.4405 - val_MAE: 0.2932\n",
            "Epoch 30/100\n",
            "6090/6090 [==============================] - 70s 11ms/sample - loss: 0.4471 - MAE: 0.2982 - val_loss: 0.4396 - val_MAE: 0.2931\n",
            "Epoch 31/100\n",
            "6090/6090 [==============================] - 70s 11ms/sample - loss: 0.4476 - MAE: 0.2993 - val_loss: 0.4388 - val_MAE: 0.2922\n",
            "Epoch 32/100\n",
            "6090/6090 [==============================] - 70s 11ms/sample - loss: 0.4450 - MAE: 0.2972 - val_loss: 0.4384 - val_MAE: 0.2909\n",
            "Epoch 33/100\n",
            "6090/6090 [==============================] - 70s 11ms/sample - loss: 0.4437 - MAE: 0.2968 - val_loss: 0.4378 - val_MAE: 0.2902\n",
            "Epoch 34/100\n",
            "6090/6090 [==============================] - 70s 11ms/sample - loss: 0.4443 - MAE: 0.2956 - val_loss: 0.4372 - val_MAE: 0.2900\n",
            "Epoch 35/100\n",
            "6090/6090 [==============================] - 70s 11ms/sample - loss: 0.4450 - MAE: 0.2956 - val_loss: 0.4368 - val_MAE: 0.2896\n",
            "Epoch 36/100\n",
            "6090/6090 [==============================] - 70s 11ms/sample - loss: 0.4445 - MAE: 0.2954 - val_loss: 0.4364 - val_MAE: 0.2890\n",
            "Epoch 37/100\n",
            "6090/6090 [==============================] - 70s 11ms/sample - loss: 0.4417 - MAE: 0.2940 - val_loss: 0.4361 - val_MAE: 0.2882\n",
            "Epoch 38/100\n",
            "6090/6090 [==============================] - 70s 11ms/sample - loss: 0.4423 - MAE: 0.2942 - val_loss: 0.4359 - val_MAE: 0.2873\n",
            "Epoch 39/100\n",
            "6090/6090 [==============================] - 70s 11ms/sample - loss: 0.4395 - MAE: 0.2915 - val_loss: 0.4351 - val_MAE: 0.2875\n",
            "Epoch 40/100\n",
            "6090/6090 [==============================] - 70s 11ms/sample - loss: 0.4407 - MAE: 0.2929 - val_loss: 0.4348 - val_MAE: 0.2869\n",
            "Epoch 41/100\n",
            "6090/6090 [==============================] - 70s 11ms/sample - loss: 0.4409 - MAE: 0.2927 - val_loss: 0.4348 - val_MAE: 0.2854\n",
            "Epoch 42/100\n",
            "6090/6090 [==============================] - 70s 11ms/sample - loss: 0.4421 - MAE: 0.2923 - val_loss: 0.4343 - val_MAE: 0.2854\n",
            "Epoch 43/100\n",
            "6090/6090 [==============================] - 70s 11ms/sample - loss: 0.4400 - MAE: 0.2907 - val_loss: 0.4340 - val_MAE: 0.2852\n",
            "Epoch 44/100\n",
            "6090/6090 [==============================] - 70s 11ms/sample - loss: 0.4409 - MAE: 0.2906 - val_loss: 0.4337 - val_MAE: 0.2849\n",
            "Epoch 45/100\n",
            "6090/6090 [==============================] - 70s 11ms/sample - loss: 0.4383 - MAE: 0.2905 - val_loss: 0.4335 - val_MAE: 0.2845\n",
            "Epoch 46/100\n",
            "6090/6090 [==============================] - 70s 12ms/sample - loss: 0.4397 - MAE: 0.2901 - val_loss: 0.4332 - val_MAE: 0.2846\n",
            "Epoch 47/100\n",
            "6090/6090 [==============================] - 71s 12ms/sample - loss: 0.4385 - MAE: 0.2899 - val_loss: 0.4331 - val_MAE: 0.2839\n",
            "Epoch 48/100\n",
            "6090/6090 [==============================] - 71s 12ms/sample - loss: 0.4369 - MAE: 0.2887 - val_loss: 0.4330 - val_MAE: 0.2834\n",
            "Epoch 49/100\n",
            "6090/6090 [==============================] - 70s 12ms/sample - loss: 0.4371 - MAE: 0.2885 - val_loss: 0.4327 - val_MAE: 0.2831\n",
            "Epoch 50/100\n",
            "6090/6090 [==============================] - 71s 12ms/sample - loss: 0.4354 - MAE: 0.2877 - val_loss: 0.4324 - val_MAE: 0.2829\n",
            "Epoch 51/100\n",
            "3808/6090 [=================>............] - ETA: 21s - loss: 0.4383 - MAE: 0.2895"
          ],
          "name": "stdout"
        }
      ]
    },
    {
      "cell_type": "code",
      "metadata": {
        "id": "LBavy1DBMtpx",
        "colab_type": "code",
        "colab": {
          "base_uri": "https://localhost:8080/",
          "height": 36
        },
        "outputId": "6b95e5ca-5034-459f-bda6-ec08f138c3c6"
      },
      "source": [
        "test_sentences=testset[\"text\"].values\n",
        "inputs=create_input_array(test_sentences)"
      ],
      "execution_count": 134,
      "outputs": [
        {
          "output_type": "stream",
          "text": [
            "100%|██████████| 3263/3263 [00:00<00:00, 4912.30it/s]\n"
          ],
          "name": "stderr"
        }
      ]
    },
    {
      "cell_type": "code",
      "metadata": {
        "id": "nONbFZruley_",
        "colab_type": "code",
        "colab": {
          "base_uri": "https://localhost:8080/",
          "height": 300
        },
        "outputId": "8e41405d-663e-454f-cde9-49860d5e2cf1"
      },
      "source": [
        "\n",
        "y_pred = model.predict(inputs)\n",
        "\n",
        "submission['target'] = np.round(y_pred).astype('int')\n",
        "submission.to_csv('/content/drive/My Drive/Colab Notebooks/model_submission.csv', index=False)\n",
        "submission.describe()"
      ],
      "execution_count": 135,
      "outputs": [
        {
          "output_type": "execute_result",
          "data": {
            "text/html": [
              "<div>\n",
              "<style scoped>\n",
              "    .dataframe tbody tr th:only-of-type {\n",
              "        vertical-align: middle;\n",
              "    }\n",
              "\n",
              "    .dataframe tbody tr th {\n",
              "        vertical-align: top;\n",
              "    }\n",
              "\n",
              "    .dataframe thead th {\n",
              "        text-align: right;\n",
              "    }\n",
              "</style>\n",
              "<table border=\"1\" class=\"dataframe\">\n",
              "  <thead>\n",
              "    <tr style=\"text-align: right;\">\n",
              "      <th></th>\n",
              "      <th>id</th>\n",
              "      <th>target</th>\n",
              "    </tr>\n",
              "  </thead>\n",
              "  <tbody>\n",
              "    <tr>\n",
              "      <th>count</th>\n",
              "      <td>3263.000000</td>\n",
              "      <td>3263.000000</td>\n",
              "    </tr>\n",
              "    <tr>\n",
              "      <th>mean</th>\n",
              "      <td>5427.152927</td>\n",
              "      <td>0.380325</td>\n",
              "    </tr>\n",
              "    <tr>\n",
              "      <th>std</th>\n",
              "      <td>3146.427221</td>\n",
              "      <td>0.485541</td>\n",
              "    </tr>\n",
              "    <tr>\n",
              "      <th>min</th>\n",
              "      <td>0.000000</td>\n",
              "      <td>0.000000</td>\n",
              "    </tr>\n",
              "    <tr>\n",
              "      <th>25%</th>\n",
              "      <td>2683.000000</td>\n",
              "      <td>0.000000</td>\n",
              "    </tr>\n",
              "    <tr>\n",
              "      <th>50%</th>\n",
              "      <td>5500.000000</td>\n",
              "      <td>0.000000</td>\n",
              "    </tr>\n",
              "    <tr>\n",
              "      <th>75%</th>\n",
              "      <td>8176.000000</td>\n",
              "      <td>1.000000</td>\n",
              "    </tr>\n",
              "    <tr>\n",
              "      <th>max</th>\n",
              "      <td>10875.000000</td>\n",
              "      <td>1.000000</td>\n",
              "    </tr>\n",
              "  </tbody>\n",
              "</table>\n",
              "</div>"
            ],
            "text/plain": [
              "                 id       target\n",
              "count   3263.000000  3263.000000\n",
              "mean    5427.152927     0.380325\n",
              "std     3146.427221     0.485541\n",
              "min        0.000000     0.000000\n",
              "25%     2683.000000     0.000000\n",
              "50%     5500.000000     0.000000\n",
              "75%     8176.000000     1.000000\n",
              "max    10875.000000     1.000000"
            ]
          },
          "metadata": {
            "tags": []
          },
          "execution_count": 135
        }
      ]
    },
    {
      "cell_type": "code",
      "metadata": {
        "id": "mZWXpN-QltYR",
        "colab_type": "code",
        "colab": {
          "base_uri": "https://localhost:8080/",
          "height": 332
        },
        "outputId": "4335fec4-32fd-4fde-e7a3-77da1d939ca4"
      },
      "source": [
        "import matplotlib.pyplot as plt\n",
        "import matplotlib.image  as mpimg\n",
        "#-----------------------------------------------------------\n",
        "# Retrieve a list of list results on training and test data\n",
        "# sets for each training epoch\n",
        "#-----------------------------------------------------------\n",
        "mae=history.history['MAE']\n",
        "loss=history.history['loss']\n",
        "\n",
        "epochs=range(len(loss)) # Get number of epochs\n",
        "\n",
        "#------------------------------------------------\n",
        "# Plot MAE and Loss\n",
        "#------------------------------------------------\n",
        "plt.plot(epochs, mae, 'r')\n",
        "plt.plot(epochs, loss, 'b')\n",
        "plt.title('MAE and Loss')\n",
        "plt.xlabel(\"Epochs\")\n",
        "plt.ylabel(\"Accuracy\")\n",
        "plt.legend([\"MAE\", \"Loss\"])\n",
        "\n",
        "plt.figure()\n"
      ],
      "execution_count": 128,
      "outputs": [
        {
          "output_type": "execute_result",
          "data": {
            "text/plain": [
              "<Figure size 432x288 with 0 Axes>"
            ]
          },
          "metadata": {
            "tags": []
          },
          "execution_count": 128
        },
        {
          "output_type": "display_data",
          "data": {
            "image/png": "[encoded data removed]",
            "text/plain": [
              "<Figure size 432x288 with 1 Axes>"
            ]
          },
          "metadata": {
            "tags": []
          }
        },
        {
          "output_type": "display_data",
          "data": {
            "text/plain": [
              "<Figure size 432x288 with 0 Axes>"
            ]
          },
          "metadata": {
            "tags": []
          }
        }
      ]
    },
    {
      "cell_type": "code",
      "metadata": {
        "id": "TVGUtuqZ6j-g",
        "colab_type": "code",
        "colab": {
          "base_uri": "https://localhost:8080/",
          "height": 292
        },
        "outputId": "6cbc6b37-d545-4fa8-ee38-5106780e6ef5"
      },
      "source": [
        "plt.semilogx(history.history[\"lr\"], history.history[\"loss\"])\n",
        "plt.axis([1e-8, 1e-4, 0, 1])"
      ],
      "execution_count": 137,
      "outputs": [
        {
          "output_type": "execute_result",
          "data": {
            "text/plain": [
              "[1e-08, 0.0001, 0, 1]"
            ]
          },
          "metadata": {
            "tags": []
          },
          "execution_count": 137
        },
        {
          "output_type": "display_data",
          "data": {
            "image/png": "[encoded data removed]",
            "text/plain": [
              "<Figure size 432x288 with 1 Axes>"
            ]
          },
          "metadata": {
            "tags": []
          }
        }
      ]
    },
    {
      "cell_type": "code",
      "metadata": {
        "id": "Ag_4l8_oml6F",
        "colab_type": "code",
        "colab": {}
      },
      "source": [
        ""
      ],
      "execution_count": 0,
      "outputs": []
    }
  ]
}